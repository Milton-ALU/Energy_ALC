{
 "cells": [
  {
   "cell_type": "code",
   "execution_count": null,
   "metadata": {},
   "outputs": [],
   "source": [
    "# Grouping the data and subseting it - Initial Analysis\n",
    "## Group the data by month, and take the mean for each group (i.e. each month)\n",
    "V_t = V_1.resample('M').sum() # sum of data on montly basis\n",
    "V_m = V_1.resample('M').mean()# mean of the data on monthly basis\n",
    "\n",
    "V_t2 = V_2.resample('M').sum() # sum of data on montly basis\n",
    "V_m2 = V_2.resample('M').mean()# mean of the data on monthly basis\n",
    "\n",
    "V_t3 = V_3.resample('M').sum() # sum of data on montly basis\n",
    "V_m3 = V_3.resample('M').mean()# mean of the data on monthly basis\n",
    "\n",
    "V_ds = V_1.resample('D').sum()# sum of the data on daily basis\n",
    "V_dm = V_1.resample('D').mean() # mean of the data on daily basis\n",
    "\n",
    "V_ds2 = V_2.resample('D').sum()# sum of the data on daily basis\n",
    "V_dm2 = V_2.resample('D').mean() # mean of the data on daily basis\n",
    "\n",
    "V_ds3 = V_3.resample('D').sum()# sum of the data on daily basis\n",
    "V_dm3 = V_3.resample('D').mean() # mean of the data on daily basis\n",
    "\n",
    "V_ws = V_1.resample('W').sum() # sum of the data on weekly basis\n",
    "V_wm = V_1.resample('W').mean() # mean of the data on weekly basis\n",
    "\n",
    "V_ws2 = V_2.resample('W').sum()# sum of the data on weekly basis\n",
    "V_wm2 = V_2.resample('W').mean() # mean of the data on weekly basis\n",
    "\n",
    "V_ws3 = V_3.resample('W').sum()# sum of the data on weekly basis\n",
    "V_wm3 = V_3.resample('W').mean() # mean of the data on weekly basis"
   ]
  }
 ],
 "metadata": {
  "kernelspec": {
   "display_name": "Python 3",
   "language": "python",
   "name": "python3"
  },
  "language_info": {
   "codemirror_mode": {
    "name": "ipython",
    "version": 3
   },
   "file_extension": ".py",
   "mimetype": "text/x-python",
   "name": "python",
   "nbconvert_exporter": "python",
   "pygments_lexer": "ipython3",
   "version": "3.7.6"
  }
 },
 "nbformat": 4,
 "nbformat_minor": 4
}
