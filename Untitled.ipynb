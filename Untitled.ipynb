{
 "cells": [
  {
   "cell_type": "code",
   "execution_count": null,
   "metadata": {},
   "outputs": [],
   "source": [
    "# Data on hourly basis\n",
    "Premise_1_hour = premise1.groupby(premise1.Date.dt.time).sum()\n",
    "Premise_2_hour = premise2.groupby(premise1.Date.dt.time).sum()\n",
    "Premise_3_hour = premise3.groupby(premise1.Date.dt.time).sum()\n",
    "\n"
   ]
  },
  {
   "cell_type": "code",
   "execution_count": null,
   "metadata": {},
   "outputs": [],
   "source": [
    "fig = plt.figure(figsize=(15, 6)) # Setting the right size for the graph\n",
    "ax = plt.gca() # gca stands for 'get current axis'\n",
    "\n",
    "## Monthly basis - Power graphs for sum\n",
    "Premise_1_hour.plot(kind='area', y=['Total Active Power (kW): Aksum'], color=['red'], ax=ax)\n",
    "Premise_2_hour.plot(kind='area', y=['Total Active Power (kW): Maps'], color=['green'], ax=ax)\n",
    "Premise_3_hour.plot(kind='area', y=['Total Active Power (kW): Songhai'], color=['blue'], ax=ax)\n",
    "\n",
    "plt.title(\"Power on Monthly Basis\", fontsize=18, y=1.02)\n",
    "plt.xlabel(\"Months\", fontsize=14, labelpad=15)\n",
    "plt.ylabel(\"Power (kW)\", fontsize=14, labelpad=15)\n",
    "plt.grid(True)\n",
    "#fig.savefig(r'C:\\Users\\MILTON ABREU\\Documents\\Data_books\\Graphs\\power_sum1.jpg')# uncomment to save the image\n"
   ]
  }
 ],
 "metadata": {
  "kernelspec": {
   "display_name": "Python 3",
   "language": "python",
   "name": "python3"
  },
  "language_info": {
   "codemirror_mode": {
    "name": "ipython",
    "version": 3
   },
   "file_extension": ".py",
   "mimetype": "text/x-python",
   "name": "python",
   "nbconvert_exporter": "python",
   "pygments_lexer": "ipython3",
   "version": "3.7.6"
  }
 },
 "nbformat": 4,
 "nbformat_minor": 4
}
