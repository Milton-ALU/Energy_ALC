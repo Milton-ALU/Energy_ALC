{
 "cells": [
  {
   "cell_type": "code",
   "execution_count": 1,
   "metadata": {},
   "outputs": [
    {
     "name": "stdout",
     "output_type": "stream",
     "text": [
      "Commit to the Lord whatever you do, and he will establish your plans. Proverbs 16:3\n",
      "Notebook written by Milton Abreu! Date: 2020 - 07 - 26\n"
     ]
    }
   ],
   "source": [
    "Quote = (\"Commit to the Lord whatever you do, and he will establish your plans.\")\n",
    "Book = (\" Proverbs 16:3\")\n",
    "print(Quote + Book)\n",
    "print(\"Notebook written by Milton Abreu! Date: 2020 - 07 - 26\")"
   ]
  },
  {
   "cell_type": "code",
   "execution_count": 2,
   "metadata": {},
   "outputs": [],
   "source": [
    "# Libraries\n",
    "import pandas as pd\n",
    "import datetime\n",
    "import numpy as np\n",
    "import matplotlib.pyplot as plt\n",
    "%matplotlib inline"
   ]
  },
  {
   "cell_type": "code",
   "execution_count": 3,
   "metadata": {},
   "outputs": [],
   "source": [
    "# Loading the data and taking a first look\n",
    "Aksum_res = pd.read_csv(\"Aksum_Empty_Campus.csv\") # Aksum Residence\n",
    "Maps_res = pd.read_csv(\"MAPS_EMPTY_CAMPUS.csv\") # Maps Residence\n",
    "Songhai_res = pd.read_csv(\"Songhai_Empty_Campus.csv\") # Songhai Residence\n",
    "\n",
    "premise1 = pd.read_csv(\"Hourly_Aksum.csv\") # Aksum Residence\n",
    "premise2 = pd.read_csv(\"Hourly_Maps.csv\") # Maps Residence\n",
    "premise3 = pd.read_csv(\"Hourly_Songhai.csv\") # Songhai Residence\n",
    "\n",
    "#Aksum_res.head(100) # uncomment to take a look at the first 100 rows of the data set"
   ]
  },
  {
   "cell_type": "code",
   "execution_count": 4,
   "metadata": {},
   "outputs": [],
   "source": [
    "# Renaming a column that was wrongly labeled/named\n",
    "premise1 = premise1.rename(columns={x:x.replace('Total Active Power (kW)', 'Total Active Power (kW): Aksum - Academic Season') for x in premise1.columns})\n",
    "premise2 = premise2.rename(columns={x:x.replace('Total Active Power (kW)', 'Total Active Power (kW): Maps - Academic Season') for x in premise2.columns})\n",
    "premise3 = premise3.rename(columns={x:x.replace('Total Active Power (kW)', 'Total Active Power (kW): Songhai - Academic Season') for x in premise3.columns})\n",
    "\n",
    "Aksum_res = Aksum_res.rename(columns={x:x.replace('Songhai', 'Aksum') for x in Aksum_res.columns})"
   ]
  },
  {
   "cell_type": "code",
   "execution_count": 7,
   "metadata": {},
   "outputs": [],
   "source": [
    "# Converting the date column values to a datetime data type \n",
    "Aksum_res['Date'] = pd.to_datetime(Aksum_res['Date'],format='%d/%m/%Y %H:%M')\n",
    "Maps_res['Date'] = pd.to_datetime(Maps_res['Date'],format='%d/%m/%Y %H:%M')\n",
    "Songhai_res['Date'] = pd.to_datetime(Songhai_res['Date'],format='%d/%m/%Y %H:%M')\n",
    "#Aksum_res['Date'] # Uncomment to check it out\n",
    "\n",
    "premise1['Date'] = pd.to_datetime(premise1['Date'],format='%d/%m/%Y %H:%M')\n",
    "premise2['Date'] = pd.to_datetime(premise2['Date'],format='%d/%m/%Y %H:%M')\n",
    "premise3['Date'] = pd.to_datetime(premise3['Date'],format='%d/%m/%Y %H:%M')\n",
    "#premise3['Date'] # Uncomment to check it out\n",
    "\n",
    "#Getting the data for the months of April and May\n",
    "premise11 = premise1.iloc[744:2208]\n",
    "premise22 = premise2.iloc[744:2208]\n",
    "premise33 = premise3.iloc[744:2208]\n",
    "\n",
    "# Data on hourly basis for two months only\n",
    "Premise_1_hour = premise11.groupby(premise1.Date.dt.time).mean()\n",
    "Premise_2_hour = premise22.groupby(premise1.Date.dt.time).mean()\n",
    "Premise_3_hour = premise33.groupby(premise1.Date.dt.time).mean()\n",
    "\n",
    "Aksum_res_hour = Aksum_res.groupby(Aksum_res.Date.dt.time).mean()\n",
    "Maps_res_hour = Maps_res.groupby(Maps_res.Date.dt.time).mean()\n",
    "Songhai_res_hour = Songhai_res.groupby(Songhai_res.Date.dt.time).mean()"
   ]
  },
  {
   "cell_type": "code",
   "execution_count": 8,
   "metadata": {},
   "outputs": [],
   "source": [
    "#Getting the Power\n",
    "Songhai_power = Songhai_res.filter(['Total Active Power: Songhai (kW)','Active Power Red-Phase: Songhai (kW)','Active Power White-Phase: Songhai (kW)','Active Power Blue-Phase: Songhai (kW)'], axis = 1)\n",
    "Maps_power = Maps_res.filter(['Total Active Power: Maps (kW)','Active Power Red-Phase: Maps (kW)','Active Power White-Phase: Maps (kW)','Active Power Blue-Phase: Maps (kW)'],axis = 1)\n",
    "Aksum_power = Aksum_res.filter(['Total Active Power: Aksum (kW)','Active Power Red-Phase: Aksum (kW)','Active Power White-Phase: Aksum (kW)','Active Power Blue-Phase: Aksum (kW)'], axis = 1)\n",
    "#Aksum_power.to_csv(r'C:\\Users\\MILTON ABREU\\Documents\\Data_books\\Final_Analysis\\Clean_Data\\Frequency.csv') # save it as csv file   \n",
    "\n",
    "P_1 = Premise_1_hour.filter(['Total Active Power (kW): Aksum','Active Power Red-Phase: Aksum (kW)','Active Power White-Phase: Aksum (kW)','Active Power Blue-Phase: Aksum (kW)'], axis = 1)\n",
    "P_2 = Premise_2_hour.filter(['Total Active Power (kW): Maps', 'Active Power Red-Phase: Maps (kW)','Active Power White-Phase: Maps (kW)','Active Power Blue-Phase: Maps (kW)'], axis = 1)\n",
    "P_3 = Premise_3_hour.filter(['Total Active Power (kW): Songhai','Active Power Red-Phase: Songhai (kW)','Active Power White-Phase: Songhai (kW)','Active Power Blue-Phase: Songhai (kW)'], axis = 1)\n",
    "#P_1.to_csv(r'C:\\Users\\MILTON ABREU\\Documents\\Data_books\\Final_Analysis\\Clean_Data\\Frequency.csv') # save it as csv file   \n",
    "\n",
    "# Cleaning the data\n",
    "P_1 = P_1.replace(0,np.NaN); P_2 = P_2.replace(0,np.NaN); P_3 = P_3.replace(0,np.NaN) # Replace zeros with nan and then drop it\n",
    "P_1.dropna(axis = 0, how ='any');P_2.dropna(axis = 0, how ='any');P_3.dropna(axis = 0, how ='any') # Getting rid of the empty cells or 'missing data'\n",
    "\n",
    "Songhai_power.index = Songhai_res['Date'];Maps_power.index = Maps_res['Date'];Aksum_power.index = Aksum_res['Date']\n",
    "Songhai_power = Songhai_power.replace(0,np.NaN);Maps_power = Maps_power.replace(0,np.NaN);Aksum_power = Aksum_power.replace(0,np.NaN)\n",
    "Songhai_power.dropna(axis = 0, how ='any');Maps_power.dropna(axis = 0, how ='any');Aksum_power.dropna(axis = 0, how ='any');\n"
   ]
  },
  {
   "cell_type": "code",
   "execution_count": 9,
   "metadata": {},
   "outputs": [
    {
     "data": {
      "image/png": "[encoded data removed]",
      "text/plain": [
       "<Figure size 432x288 with 1 Axes>"
      ]
     },
     "metadata": {
      "needs_background": "light"
     },
     "output_type": "display_data"
    }
   ],
   "source": [
    "#fig = plt.figure(figsize=(15, 6)) # Setting the right size for the graph\n",
    "ax = plt.gca() # gca stands for 'get current axis'\n",
    "\n",
    "## Monthly basis - Power graphs for sum\n",
    "#Premise_1_hour.plot(kind='line', y=['Total Active Power (kW): Aksum - Academic Season'], color=['red'], ax=ax)\n",
    "#Premise_2_hour.plot(kind='line', y=['Total Active Power (kW): Maps - Academic Season'], color=['green'], ax=ax)\n",
    "Premise_3_hour.plot(kind='line', y=['Total Active Power (kW): Songhai - Academic Season'], color=['blue'], ax=ax)\n",
    "\n",
    "#Aksum_res_hour.plot(kind='line', y=['Total Active Power: Aksum (kW)'], color=['red'], ax=ax)\n",
    "#Maps_res_hour.plot(kind='line', y=['Total Active Power: Maps (kW)'], color=['green'], ax=ax)\n",
    "#Songhai_res_hour.plot(kind='line', y=['Total Active Power: Songhai (kW)'], color=['blue'], ax=ax)\n",
    "\n",
    "\n",
    "plt.title(\"Average Power on Hourly Basis\", fontsize=18, y=1.02)\n",
    "plt.xlabel(\"Hours\", fontsize=14, labelpad=15)\n",
    "plt.ylabel(\"Power (kW)\", fontsize=14, labelpad=15)\n",
    "plt.xticks(Premise_1_hour.index, rotation=90)\n",
    "plt.grid(True)\n",
    "#fig.savefig(r'C:\\Users\\MILTON ABREU\\Documents\\Data_books\\Graphs\\power_sum1.jpg')# uncomment to save the image"
   ]
  },
  {
   "cell_type": "code",
   "execution_count": 10,
   "metadata": {},
   "outputs": [
    {
     "data": {
      "image/png": "[encoded data removed]",
      "text/plain": [
       "<Figure size 432x288 with 1 Axes>"
      ]
     },
     "metadata": {
      "needs_background": "light"
     },
     "output_type": "display_data"
    }
   ],
   "source": [
    "#fig = plt.figure(figsize=(15, 6)) # Setting the right size for the graph\n",
    "ax = plt.gca() # gca stands for 'get current axis'\n",
    "\n",
    "## Monthly basis - Power graphs for sum\n",
    "#Premise_1_hour.plot(kind='line', y=['Total Active Power (kW): Aksum - Academic Season'], color=['red'], ax=ax)\n",
    "#Premise_2_hour.plot(kind='line', y=['Total Active Power (kW): Maps - Academic Season'], color=['green'], ax=ax)\n",
    "#Premise_3_hour.plot(kind='line', y=['Total Active Power (kW): Songhai - Academic Season'], color=['blue'], ax=ax)\n",
    "\n",
    "#Aksum_res_hour.plot(kind='line', y=['Total Active Power: Aksum (kW)'], color=['red'], ax=ax)\n",
    "#Maps_res_hour.plot(kind='line', y=['Total Active Power: Maps (kW)'], color=['green'], ax=ax)\n",
    "Songhai_res_hour.plot(kind='line', y=['Total Active Power: Songhai (kW)'], color=['blue'], ax=ax)\n",
    "\n",
    "\n",
    "plt.title(\"Average Power on Hourly Basis\", fontsize=18, y=1.02)\n",
    "plt.xlabel(\"Hours\", fontsize=14, labelpad=15)\n",
    "plt.ylabel(\"Power (kW)\", fontsize=14, labelpad=15)\n",
    "plt.xticks(Premise_1_hour.index, rotation=90)\n",
    "plt.grid(True)\n",
    "#fig.savefig(r'C:\\Users\\MILTON ABREU\\Documents\\Data_books\\Graphs\\power_sum1.jpg')# uncomment to save the image"
   ]
  },
  {
   "cell_type": "code",
   "execution_count": 116,
   "metadata": {},
   "outputs": [
    {
     "data": {
      "text/plain": [
       "Index(['Date', 'Voltage Red-Phase (V)', 'Voltage White-Phase (V)',\n",
       "       'Voltage Bule-Phase (V)', 'Current Red-Phase (A)',\n",
       "       'Current White-Phase (A)', 'Current Bule-Phase (A)',\n",
       "       'Total Active Power (kW): Aksum - Academic Season',\n",
       "       'Active Power Red-Phase (kW)', 'Active Power White-Phase (kW)',\n",
       "       'Active Power Bule-Phase (kW)', 'Total Reactive Power (kVAr)',\n",
       "       'Reactive Power Red-Phase (kVAr)', 'Reactive Power White-Phase (kVAr)',\n",
       "       'Reactive Power Bule-Phase (kVAr)', 'Total Demand (kVA)',\n",
       "       'Demand Red-Phase (kVA)', 'Demand White-Phase (kVA)',\n",
       "       'Demand Bule-Phase (kVA)', 'Total Power Factor',\n",
       "       'Power Factor Red-Phase', 'Power Factor White-Phase',\n",
       "       'Power Factor Bule-Phase', 'Total Power Consumed (kWh)',\n",
       "       'Frequency (Hz): Aksum', 'Temperature (deg C)', 'Humidity (%)'],\n",
       "      dtype='object')"
      ]
     },
     "execution_count": 116,
     "metadata": {},
     "output_type": "execute_result"
    }
   ],
   "source": [
    "premise_A = premise1.iloc[1464:2208]\n",
    "premise_M = premise2.iloc[1464:2208]\n",
    "premise_S = premise3.iloc[1464:2208]\n",
    "\n",
    "premise_A.columns"
   ]
  },
  {
   "cell_type": "code",
   "execution_count": 121,
   "metadata": {},
   "outputs": [],
   "source": [
    "P_AK_1month = premise_A[['Active Power Red-Phase (kW)', 'Active Power White-Phase (kW)',\n",
    "       'Active Power Bule-Phase (kW)']].copy()\n",
    "\n",
    "P_MA_1month = premise_M[['Active Power Red-Phase (kW)', 'Active Power White-Phase (kW)',\n",
    "       'Active Power Bule-Phase (kW)']].copy()\n",
    "\n",
    "P_SO_1month = premise_S[['Active Power Red-Phase (kW)', 'Active Power White-Phase (kW)',\n",
    "       'Active Power Bule-Phase (kW)']].copy()"
   ]
  },
  {
   "cell_type": "code",
   "execution_count": 118,
   "metadata": {},
   "outputs": [],
   "source": [
    "# Finding the mean or average of the 3-phase power ); use rows\n",
    "P_AK_1month['Average Power (kW)'] = P_AK_1month.mean(axis=1)\n",
    "P_MA_1month['Average Power (kW)'] = P_MA_1month.mean(axis=1)\n",
    "P_SO_1month['Average Power (kW)'] = P_SO_1month.mean(axis=1)\n",
    "\n",
    "# Finding the mean or average of the 3-phase power ); use rows\n",
    "P_AK_1month['Average Power (kW)'] = P_AK_1month.mean(axis=1)\n",
    "P_MA_1month['Average Power (kW)'] = P_MA_1month.mean(axis=1)\n",
    "P_SO_1month['Average Power (kW)'] = P_SO_1month.mean(axis=1)\n",
    "\n",
    "# Finding the max deviation from the mean\n",
    "P_AK_1month['Max Deviation'] = P_AK_1month.max(axis=1) - P_AK_1month.mean(axis=1)\n",
    "P_MA_1month['Max Deviation'] = P_MA_1month.max(axis=1) - P_MA_1month.mean(axis=1)\n",
    "P_SO_1month['Max Deviation'] = P_SO_1month.max(axis=1) - P_SO_1month.mean(axis=1)"
   ]
  },
  {
   "cell_type": "code",
   "execution_count": 119,
   "metadata": {},
   "outputs": [],
   "source": [
    "df2 = {'Aksum': (5484.00, 4585.80, 3966.60), 'Maps': (3594.40, 4096.70, 667.50), 'Songhai': (3324.20, 2852.70, 2237.30),'Average Power': (4134.19, 3845.07, 3290.47),'% Unbalance': ('32.65%','19.26%','20.55%')}\n",
    "df3 = {'Residence':[['Active Power Red-Phase','Active Power White-Phase','Active Power Blue-Phase','Average Power','% Power Unbalance','LF']]}"
   ]
  },
  {
   "cell_type": "code",
   "execution_count": 120,
   "metadata": {},
   "outputs": [
    {
     "data": {
      "text/html": [
       "<div>\n",
       "<style scoped>\n",
       "    .dataframe tbody tr th:only-of-type {\n",
       "        vertical-align: middle;\n",
       "    }\n",
       "\n",
       "    .dataframe tbody tr th {\n",
       "        vertical-align: top;\n",
       "    }\n",
       "\n",
       "    .dataframe thead th {\n",
       "        text-align: right;\n",
       "    }\n",
       "</style>\n",
       "<table border=\"1\" class=\"dataframe\">\n",
       "  <thead>\n",
       "    <tr style=\"text-align: right;\">\n",
       "      <th></th>\n",
       "      <th>Active Power Red-Phase (kW)</th>\n",
       "      <th>Active Power White-Phase (kW)</th>\n",
       "      <th>Active Power Bule-Phase (kW)</th>\n",
       "      <th>Total Power Factor</th>\n",
       "      <th>Average Power (kW)</th>\n",
       "      <th>Max Deviation</th>\n",
       "    </tr>\n",
       "  </thead>\n",
       "  <tbody>\n",
       "    <tr>\n",
       "      <th>1464</th>\n",
       "      <td>8.5</td>\n",
       "      <td>6.4</td>\n",
       "      <td>5.9</td>\n",
       "      <td>0.988</td>\n",
       "      <td>5.44700</td>\n",
       "      <td>3.05300</td>\n",
       "    </tr>\n",
       "    <tr>\n",
       "      <th>1465</th>\n",
       "      <td>7.3</td>\n",
       "      <td>5.4</td>\n",
       "      <td>4.9</td>\n",
       "      <td>0.986</td>\n",
       "      <td>4.64650</td>\n",
       "      <td>2.65350</td>\n",
       "    </tr>\n",
       "    <tr>\n",
       "      <th>1466</th>\n",
       "      <td>7.1</td>\n",
       "      <td>4.8</td>\n",
       "      <td>4.2</td>\n",
       "      <td>0.979</td>\n",
       "      <td>4.26975</td>\n",
       "      <td>2.83025</td>\n",
       "    </tr>\n",
       "    <tr>\n",
       "      <th>1467</th>\n",
       "      <td>6.7</td>\n",
       "      <td>4.7</td>\n",
       "      <td>4.4</td>\n",
       "      <td>0.980</td>\n",
       "      <td>4.19500</td>\n",
       "      <td>2.50500</td>\n",
       "    </tr>\n",
       "    <tr>\n",
       "      <th>1468</th>\n",
       "      <td>11.2</td>\n",
       "      <td>9.0</td>\n",
       "      <td>8.7</td>\n",
       "      <td>0.994</td>\n",
       "      <td>7.47350</td>\n",
       "      <td>3.72650</td>\n",
       "    </tr>\n",
       "    <tr>\n",
       "      <th>...</th>\n",
       "      <td>...</td>\n",
       "      <td>...</td>\n",
       "      <td>...</td>\n",
       "      <td>...</td>\n",
       "      <td>...</td>\n",
       "      <td>...</td>\n",
       "    </tr>\n",
       "    <tr>\n",
       "      <th>2203</th>\n",
       "      <td>8.3</td>\n",
       "      <td>5.0</td>\n",
       "      <td>4.4</td>\n",
       "      <td>0.981</td>\n",
       "      <td>4.67025</td>\n",
       "      <td>3.62975</td>\n",
       "    </tr>\n",
       "    <tr>\n",
       "      <th>2204</th>\n",
       "      <td>11.8</td>\n",
       "      <td>11.1</td>\n",
       "      <td>10.5</td>\n",
       "      <td>0.995</td>\n",
       "      <td>8.59875</td>\n",
       "      <td>3.20125</td>\n",
       "    </tr>\n",
       "    <tr>\n",
       "      <th>2205</th>\n",
       "      <td>15.4</td>\n",
       "      <td>12.7</td>\n",
       "      <td>12.2</td>\n",
       "      <td>0.997</td>\n",
       "      <td>10.32425</td>\n",
       "      <td>5.07575</td>\n",
       "    </tr>\n",
       "    <tr>\n",
       "      <th>2206</th>\n",
       "      <td>14.6</td>\n",
       "      <td>13.1</td>\n",
       "      <td>12.1</td>\n",
       "      <td>0.998</td>\n",
       "      <td>10.19950</td>\n",
       "      <td>4.40050</td>\n",
       "    </tr>\n",
       "    <tr>\n",
       "      <th>2207</th>\n",
       "      <td>12.1</td>\n",
       "      <td>9.3</td>\n",
       "      <td>8.9</td>\n",
       "      <td>0.994</td>\n",
       "      <td>7.82350</td>\n",
       "      <td>4.27650</td>\n",
       "    </tr>\n",
       "  </tbody>\n",
       "</table>\n",
       "<p>744 rows × 6 columns</p>\n",
       "</div>"
      ],
      "text/plain": [
       "      Active Power Red-Phase (kW)  Active Power White-Phase (kW)  \\\n",
       "1464                          8.5                            6.4   \n",
       "1465                          7.3                            5.4   \n",
       "1466                          7.1                            4.8   \n",
       "1467                          6.7                            4.7   \n",
       "1468                         11.2                            9.0   \n",
       "...                           ...                            ...   \n",
       "2203                          8.3                            5.0   \n",
       "2204                         11.8                           11.1   \n",
       "2205                         15.4                           12.7   \n",
       "2206                         14.6                           13.1   \n",
       "2207                         12.1                            9.3   \n",
       "\n",
       "      Active Power Bule-Phase (kW)  Total Power Factor  Average Power (kW)  \\\n",
       "1464                           5.9               0.988             5.44700   \n",
       "1465                           4.9               0.986             4.64650   \n",
       "1466                           4.2               0.979             4.26975   \n",
       "1467                           4.4               0.980             4.19500   \n",
       "1468                           8.7               0.994             7.47350   \n",
       "...                            ...                 ...                 ...   \n",
       "2203                           4.4               0.981             4.67025   \n",
       "2204                          10.5               0.995             8.59875   \n",
       "2205                          12.2               0.997            10.32425   \n",
       "2206                          12.1               0.998            10.19950   \n",
       "2207                           8.9               0.994             7.82350   \n",
       "\n",
       "      Max Deviation  \n",
       "1464        3.05300  \n",
       "1465        2.65350  \n",
       "1466        2.83025  \n",
       "1467        2.50500  \n",
       "1468        3.72650  \n",
       "...             ...  \n",
       "2203        3.62975  \n",
       "2204        3.20125  \n",
       "2205        5.07575  \n",
       "2206        4.40050  \n",
       "2207        4.27650  \n",
       "\n",
       "[744 rows x 6 columns]"
      ]
     },
     "execution_count": 120,
     "metadata": {},
     "output_type": "execute_result"
    }
   ],
   "source": [
    "P_AK_1month"
   ]
  },
  {
   "cell_type": "code",
   "execution_count": 159,
   "metadata": {},
   "outputs": [],
   "source": [
    "AK = premise_A[['Power Factor Red-Phase','Power Factor White-Phase','Power Factor Bule-Phase']].copy()\n",
    "MA = premise_M[['Power Factor Red-Phase','Power Factor White-Phase','Power Factor Bule-Phase']].copy()\n",
    "SO = premise_S[['Power Factor Red-Phase','Power Factor White-Phase','Power Factor Bule-Phase']].copy()"
   ]
  },
  {
   "cell_type": "code",
   "execution_count": 165,
   "metadata": {},
   "outputs": [
    {
     "data": {
      "text/plain": [
       "Power Factor Red-Phase      0.908059\n",
       "Power Factor White-Phase    0.948581\n",
       "Power Factor Bule-Phase     0.976571\n",
       "dtype: float64"
      ]
     },
     "execution_count": 165,
     "metadata": {},
     "output_type": "execute_result"
    }
   ],
   "source": [
    "AK.mean(); MA.mean(); SO.mean()"
   ]
  },
  {
   "cell_type": "code",
   "execution_count": 166,
   "metadata": {},
   "outputs": [],
   "source": [
    "LF_A = (0.95/0.94) * (0.95/0.93) * (0.95/0.99) * (0.3265/0.3333) * 100\n",
    "LF_M = (0.95/0.91) * (0.95/0.95) * (0.95/0.98) * (0.1926/0.3333) * 100\n",
    "LF_S = (0.95/0.86) * (0.95/0.91) * (0.95/0.99) * (0.2055/0.3333) * 100"
   ]
  },
  {
   "cell_type": "code",
   "execution_count": 172,
   "metadata": {},
   "outputs": [
    {
     "data": {
      "text/plain": [
       "68.22951595626536"
      ]
     },
     "execution_count": 172,
     "metadata": {},
     "output_type": "execute_result"
    }
   ],
   "source": [
    "LF_A; LF_M; LF_S"
   ]
  }
 ],
 "metadata": {
  "kernelspec": {
   "display_name": "Python 3",
   "language": "python",
   "name": "python3"
  },
  "language_info": {
   "codemirror_mode": {
    "name": "ipython",
    "version": 3
   },
   "file_extension": ".py",
   "mimetype": "text/x-python",
   "name": "python",
   "nbconvert_exporter": "python",
   "pygments_lexer": "ipython3",
   "version": "3.7.6"
  }
 },
 "nbformat": 4,
 "nbformat_minor": 4
}
