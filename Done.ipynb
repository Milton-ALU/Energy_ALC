{
 "cells": [
  {
   "cell_type": "code",
   "execution_count": 1,
   "metadata": {},
   "outputs": [
    {
     "name": "stdout",
     "output_type": "stream",
     "text": [
      "Commit to the Lord whatever you do, and he will establish your plans.Proverbs 16:3\n",
      "Notebook written by Milton Abreu! Date: 2020 - 06 - 01\n"
     ]
    }
   ],
   "source": [
    "Quote = (\"Commit to the Lord whatever you do, and he will establish your plans.\")\n",
    "Book = (\"Proverbs 16:3\")\n",
    "print(Quote + Book)\n",
    "print(\"Notebook written by Milton Abreu! Date: 2020 - 06 - 01\")"
   ]
  },
  {
   "cell_type": "code",
   "execution_count": 2,
   "metadata": {},
   "outputs": [],
   "source": [
    "# Libraries\n",
    "import pandas as pd\n",
    "import datetime\n",
    "import numpy as np\n",
    "import matplotlib.pyplot as plt\n",
    "%matplotlib inline"
   ]
  },
  {
   "cell_type": "code",
   "execution_count": 3,
   "metadata": {},
   "outputs": [],
   "source": [
    "# Loading the data and taking a first look\n",
    "Voltage = pd.read_csv(\"Voltage.csv\") \n",
    "Frequency = pd.read_csv(\"Frequency.csv\")\n",
    "Current= pd.read_csv(\"Current.csv\") \n",
    "#Voltage.head(100) # uncomment to take a look at the first 100 rows of the data set\n",
    "#Voltage.columns # uncomment to take a look at the columns names"
   ]
  },
  {
   "cell_type": "code",
   "execution_count": 4,
   "metadata": {},
   "outputs": [],
   "source": [
    "# Converting the date column values to a datetime data type \n",
    "Voltage['Date'] = pd.to_datetime(Voltage['Date'],format='%d/%m/%Y %H:%M')\n",
    "Current['Date'] = pd.to_datetime(Current['Date'],format='%d/%m/%Y %H:%M')\n",
    "Frequency['Date'] = pd.to_datetime(Frequency['Date'],format='%d/%m/%Y %H:%M')\n"
   ]
  },
  {
   "cell_type": "code",
   "execution_count": 5,
   "metadata": {},
   "outputs": [
    {
     "ename": "SyntaxError",
     "evalue": "invalid syntax (<ipython-input-5-ac6e7bc4f63d>, line 2)",
     "output_type": "error",
     "traceback": [
      "\u001b[1;36m  File \u001b[1;32m\"<ipython-input-5-ac6e7bc4f63d>\"\u001b[1;36m, line \u001b[1;32m2\u001b[0m\n\u001b[1;33m    Plotting and further analysis\u001b[0m\n\u001b[1;37m                                ^\u001b[0m\n\u001b[1;31mSyntaxError\u001b[0m\u001b[1;31m:\u001b[0m invalid syntax\n"
     ]
    }
   ],
   "source": [
    "# Finding instances of undervoltage\n",
    "Plotting and further analysis\n",
    "plt.figure(figsize=(15, 6)) # Setting the right size for the graph\n",
    "ax = plt.gca() # gca stands for 'get current axis'\n",
    "\n",
    "## Monthly basis - Voltage graphs for sum\n",
    "V_t.plot(kind='line', y=['Voltage Red-Phase (V)','Voltage White-Phase (V)','Voltage Blue-Phase (V)'], color=['red', 'green','blue'],marker='o', ax=ax)\n",
    "plt.title(\"Voltage on Monthly Basis \", fontsize=18, y=1.02)\n",
    "plt.xlabel(\"Months\", fontsize=14, labelpad=15)\n",
    "plt.ylabel(\"Voltage Magnitude (V)\", fontsize=14, labelpad=15)\n",
    "plt.grid(True)\n",
    "#fig.savefig(r'C:\\Users\\MILTON ABREU\\Documents\\Data_books\\Graphs\\Voltage_sum2.jpg')# uncomment to save the image"
   ]
  }
 ],
 "metadata": {
  "kernelspec": {
   "display_name": "Python 3",
   "language": "python",
   "name": "python3"
  },
  "language_info": {
   "codemirror_mode": {
    "name": "ipython",
    "version": 3
   },
   "file_extension": ".py",
   "mimetype": "text/x-python",
   "name": "python",
   "nbconvert_exporter": "python",
   "pygments_lexer": "ipython3",
   "version": "3.7.6"
  }
 },
 "nbformat": 4,
 "nbformat_minor": 4
}
